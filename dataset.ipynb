{
 "cells": [
  {
   "cell_type": "code",
   "execution_count": 72,
   "metadata": {},
   "outputs": [],
   "source": [
    "import yfinance as yf\n",
    "import pandas as pd\n",
    "import numpy as np\n",
    "from pandas_datareader import data as pdr\n",
    "import datetime\n",
    "# !pip freeze > requirements.txt"
   ]
  },
  {
   "cell_type": "code",
   "execution_count": null,
   "metadata": {},
   "outputs": [],
   "source": [
    "def fetch_sp500_data(start_date, end_date):\n",
    "    sp500 = yf.download('^GSPC', start=start_date, end=end_date, auto_adjust=True)\n",
    "    sp500['Log Returns'] = np.log(sp500['Close'] / sp500['Close'].shift(1))\n",
    "    sp500['Realized Volatility'] = sp500['Log Returns'].rolling(window=21).std() * np.sqrt(252)\n",
    "    sp500 = sp500[['Close', 'Log Returns', 'Realized Volatility']]\n",
    "    sp500.index = pd.to_datetime(sp500.index)  \n",
    "    # print(sp500.head())  \n",
    "    return sp500\n",
    "\n",
    "def fetch_vix_iv(start_date, end_date):\n",
    "    vix = yf.download('^VIX', start=start_date, end=end_date, auto_adjust=True)\n",
    "    vix['Implied Volatility'] = vix['Close'] / 100  # VIX index to IV approximation\n",
    "    vix = vix[['Close', 'Implied Volatility']]\n",
    "    vix.index = pd.to_datetime(vix.index)  \n",
    "    # print(vix.head())  \n",
    "    return vix\n",
    "\n",
    "def fetch_risk_free_rate(start_date, end_date):\n",
    "    rf = pdr.get_data_fred('DGS3MO', start_date, end_date)\n",
    "    rf = rf / 100  \n",
    "    rf = rf.rename(columns={'DGS3MO': 'Risk-Free Rate'})\n",
    "    rf.index = pd.to_datetime(rf.index) \n",
    "    rf = rf.asfreq('B').fillna(method='ffill')  # Aligneed with business days\n",
    "    # print(rf.head())  \n",
    "    return rf\n",
    "\n",
    "def preprocess_and_merge(sp500, vix, rf):\n",
    "    # Merge datasets ensuring same index format\n",
    "\n",
    "    # sp500 = sp500.droplevel(1) if isinstance(sp500.index, pd.MultiIndex) else sp500\n",
    "    # vix = vix.droplevel(1) if isinstance(vix.index, pd.MultiIndex) else vix\n",
    "    # rf = rf.droplevel(1) if isinstance(rf.index, pd.MultiIndex) else rf\n",
    "\n",
    "    # data = sp500.merge(vix, on = \"Date\", how='inner')\n",
    "    data = pd.concat([sp500, vix], axis=1, join='inner')\n",
    "    # print(data.head())  \n",
    "    \n",
    "    data.rename(columns={'index': 'Date'}, inplace=True)\n",
    "    # missing_dates = rf.index.difference(sp500.index)\n",
    "    # print(\"Missing dates in risk-free rate:\", missing_dates)\n",
    "    \n",
    "    rf1 = rf.reindex(sp500.index, method='ffill')\n",
    "\n",
    "    # data = data.merge(rf1, on = \"Date\", how='inner')\n",
    "    data = pd.concat([data, rf1], axis=1, join='inner')\n",
    "    data.dropna(inplace=True)\n",
    "    return data"
   ]
  },
  {
   "cell_type": "code",
   "execution_count": null,
   "metadata": {},
   "outputs": [
    {
     "name": "stderr",
     "output_type": "stream",
     "text": [
      "[*********************100%***********************]  1 of 1 completed"
     ]
    },
    {
     "name": "stderr",
     "output_type": "stream",
     "text": [
      "\n",
      "[*********************100%***********************]  1 of 1 completed"
     ]
    },
    {
     "name": "stdout",
     "output_type": "stream",
     "text": [
      "Dataset saved as sp500_vix_data.csv\n",
      "            (Close, ^GSPC)  (Log Returns, )  (Realized Volatility, )  \\\n",
      "Date                                                                   \n",
      "2015-02-03     2050.030029         0.014336                 0.180978   \n",
      "2015-02-04     2041.510010        -0.004165                 0.169203   \n",
      "2015-02-05     2062.520020         0.010239                 0.168782   \n",
      "2015-02-06     2055.469971        -0.003424                 0.165366   \n",
      "2015-02-09     2046.739990        -0.004256                 0.153966   \n",
      "\n",
      "            (Close, ^VIX)  (Implied Volatility, )  Risk-Free Rate  \n",
      "Date                                                               \n",
      "2015-02-03      17.330000                  0.1733          0.0002  \n",
      "2015-02-04      18.330000                  0.1833          0.0001  \n",
      "2015-02-05      16.850000                  0.1685          0.0002  \n",
      "2015-02-06      17.290001                  0.1729          0.0002  \n",
      "2015-02-09      18.549999                  0.1855          0.0001  \n"
     ]
    },
    {
     "name": "stderr",
     "output_type": "stream",
     "text": [
      "\n",
      "C:\\Users\\ARSH\\AppData\\Local\\Temp\\ipykernel_62348\\3064411312.py:23: FutureWarning: DataFrame.fillna with 'method' is deprecated and will raise in a future version. Use obj.ffill() or obj.bfill() instead.\n",
      "  rf = rf.asfreq('B').fillna(method='ffill')  # Align with business days\n"
     ]
    }
   ],
   "source": [
    "# date range\n",
    "start_date = '2015-01-01'\n",
    "end_date = '2025-01-01'\n",
    "\n",
    "sp500_data = fetch_sp500_data(start_date, end_date)\n",
    "vix_data = fetch_vix_iv(start_date, end_date)\n",
    "risk_free_rate = fetch_risk_free_rate(start_date, end_date)\n",
    "\n",
    "final_data = preprocess_and_merge(sp500_data, vix_data, risk_free_rate)\n",
    "\n",
    "final_data.to_csv(\"sp500_vix_data.csv\")\n",
    "\n",
    "print(\"Dataset saved as sp500_vix_data.csv\")\n",
    "print(final_data.head())\n"
   ]
  },
  {
   "cell_type": "code",
   "execution_count": 62,
   "metadata": {},
   "outputs": [
    {
     "name": "stdout",
     "output_type": "stream",
     "text": [
      "DataFrame 1:\n",
      "   A0  A1\n",
      "   B0  B1\n",
      "   C0  C1\n",
      "0   1   2\n",
      "1  10  20\n",
      "DataFrame 2:\n",
      "   X0   X1\n",
      "   Y0   Y1\n",
      "0   1  200\n",
      "1  10  200\n",
      "Combined DataFrame:\n",
      "   (A0, B0, C0)  (A1, B1, C1)  (X0, Y0)  (X1, Y1)\n",
      "0             1             2         1       200\n",
      "1            10            20        10       200\n",
      "RangeIndex(start=0, stop=2, step=1)\n",
      "RangeIndex(start=0, stop=2, step=1)\n",
      "RangeIndex(start=0, stop=2, step=1)\n"
     ]
    }
   ],
   "source": [
    "df1_columns = pd.MultiIndex.from_tuples([(\"A0\", \"B0\", \"C0\"), (\"A1\", \"B1\", \"C1\")])\n",
    "df1 = pd.DataFrame([[1, 2], [10, 20]], columns=df1_columns)\n",
    "\n",
    "df2_columns = pd.MultiIndex.from_tuples([(\"X0\", \"Y0\"), (\"X1\", \"Y1\")])\n",
    "df2 = pd.DataFrame([[1, 200], [10, 200]], columns=df2_columns)\n",
    "\n",
    "print(\"DataFrame 1:\")\n",
    "print(df1)\n",
    "print(\"DataFrame 2:\")\n",
    "print(df2)\n",
    "\n",
    "# Concatenate DataFrames with MultiIndex columns\n",
    "df_combined = pd.concat([df1, df2], axis=1)\n",
    "print(\"Combined DataFrame:\")\n",
    "print(df_combined)\n",
    "\n",
    "print(df1.index)\n",
    "print(df2.index)\n",
    "print(df_combined.index)"
   ]
  },
  {
   "cell_type": "code",
   "execution_count": null,
   "metadata": {},
   "outputs": [],
   "source": []
  }
 ],
 "metadata": {
  "kernelspec": {
   "display_name": "finenv",
   "language": "python",
   "name": "python3"
  },
  "language_info": {
   "codemirror_mode": {
    "name": "ipython",
    "version": 3
   },
   "file_extension": ".py",
   "mimetype": "text/x-python",
   "name": "python",
   "nbconvert_exporter": "python",
   "pygments_lexer": "ipython3",
   "version": "3.12.1"
  }
 },
 "nbformat": 4,
 "nbformat_minor": 2
}
